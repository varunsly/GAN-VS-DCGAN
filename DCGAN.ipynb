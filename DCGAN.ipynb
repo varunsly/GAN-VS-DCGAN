{
 "cells": [
  {
   "cell_type": "code",
   "execution_count": 89,
   "metadata": {},
   "outputs": [],
   "source": [
    "import numpy as np\n",
    "import pandas as pd\n",
    "import matplotlib.pyplot as plt"
   ]
  },
  {
   "cell_type": "code",
   "execution_count": 90,
   "metadata": {},
   "outputs": [],
   "source": [
    "from keras.datasets import mnist"
   ]
  },
  {
   "cell_type": "code",
   "execution_count": 91,
   "metadata": {},
   "outputs": [],
   "source": [
    "(X_train,Y_train),(X_test,Y_test)=mnist.load_data()"
   ]
  },
  {
   "cell_type": "code",
   "execution_count": 92,
   "metadata": {},
   "outputs": [],
   "source": [
    "X_train=X_train/255\n",
    "X_test=X_test/255"
   ]
  },
  {
   "cell_type": "code",
   "execution_count": 93,
   "metadata": {},
   "outputs": [],
   "source": [
    "#Reshaping the data so that Tanh activation can work properly on the data\n",
    "\n",
    "X_train=X_train.reshape(X_train.shape[0],28,28,1)*2-1\n",
    "X_test=X_test.reshape(X_test.shape[0],28,28,1)*2-1\n"
   ]
  },
  {
   "cell_type": "code",
   "execution_count": 94,
   "metadata": {},
   "outputs": [
    {
     "data": {
      "text/plain": [
       "-1.0"
      ]
     },
     "execution_count": 94,
     "metadata": {},
     "output_type": "execute_result"
    }
   ],
   "source": [
    "X_train.min()"
   ]
  },
  {
   "cell_type": "code",
   "execution_count": 95,
   "metadata": {},
   "outputs": [
    {
     "data": {
      "text/plain": [
       "1.0"
      ]
     },
     "execution_count": 95,
     "metadata": {},
     "output_type": "execute_result"
    }
   ],
   "source": [
    "X_train.max()"
   ]
  },
  {
   "cell_type": "code",
   "execution_count": 96,
   "metadata": {},
   "outputs": [],
   "source": [
    "only_zeros=X_train[Y_train==0]"
   ]
  },
  {
   "cell_type": "code",
   "execution_count": 97,
   "metadata": {},
   "outputs": [
    {
     "data": {
      "text/plain": [
       "(5923, 28, 28, 1)"
      ]
     },
     "execution_count": 97,
     "metadata": {},
     "output_type": "execute_result"
    }
   ],
   "source": [
    "only_zeros.shape"
   ]
  },
  {
   "cell_type": "code",
   "execution_count": 98,
   "metadata": {},
   "outputs": [],
   "source": [
    "reduced_dim=100"
   ]
  },
  {
   "cell_type": "code",
   "execution_count": 99,
   "metadata": {},
   "outputs": [],
   "source": [
    "import tensorflow as tf\n",
    "from tensorflow.keras.models import Sequential\n",
    "from tensorflow.keras.layers import Flatten,Dropout,BatchNormalization,LeakyReLU,Dense,Conv2D,Conv2DTranspose,Reshape"
   ]
  },
  {
   "cell_type": "code",
   "execution_count": 100,
   "metadata": {},
   "outputs": [],
   "source": [
    "np.random.seed(100)\n",
    "tf.random.set_seed(100)"
   ]
  },
  {
   "cell_type": "code",
   "execution_count": 101,
   "metadata": {},
   "outputs": [],
   "source": [
    "generator=Sequential()\n",
    "generator.add(Dense(7*7*128,input_shape=[reduced_dim]))\n",
    "generator.add(LeakyReLU())\n",
    "generator.add(Reshape([7,7,128]))\n",
    "generator.add(BatchNormalization())\n",
    "generator.add(Conv2DTranspose(64,(3,3),strides=(2,2),padding=\"same\",activation='relu'))\n",
    "generator.add(Dropout(0.3))\n",
    "generator.add(BatchNormalization())\n",
    "generator.add(Conv2DTranspose(1,(3,3),padding=\"same\",strides=(2,2),activation='tanh'))\n",
    "assert generator.output_shape==(None,28,28,1)"
   ]
  },
  {
   "cell_type": "code",
   "execution_count": 102,
   "metadata": {},
   "outputs": [],
   "source": [
    "discriminator=Sequential()\n",
    "discriminator.add(Conv2D(64,(3,3), activation=LeakyReLU(0.4), padding='same', input_shape=[28,28,1]))\n",
    "discriminator.add(Dropout(0.5))\n",
    "discriminator.add(Conv2D(128, (3,3), activation=LeakyReLU(0.3),padding=\"same\"))\n",
    "discriminator.add(Dropout(0.4))\n",
    "discriminator.add(Flatten())\n",
    "discriminator.add(Dense(1,activation='sigmoid'))\n"
   ]
  },
  {
   "cell_type": "code",
   "execution_count": 103,
   "metadata": {},
   "outputs": [],
   "source": [
    "GAN=Sequential([generator,discriminator])"
   ]
  },
  {
   "cell_type": "code",
   "execution_count": 104,
   "metadata": {},
   "outputs": [],
   "source": [
    "discriminator.compile(loss='binary_crossentropy',\n",
    "                      optimizer='adam')\n",
    "discriminator.trainable=False"
   ]
  },
  {
   "cell_type": "code",
   "execution_count": 105,
   "metadata": {},
   "outputs": [],
   "source": [
    "GAN.compile(loss='binary_crossentropy',\n",
    "                      optimizer='adam')"
   ]
  },
  {
   "cell_type": "code",
   "execution_count": 106,
   "metadata": {},
   "outputs": [],
   "source": [
    "batch_size=64\n",
    "my_data=only_zeros"
   ]
  },
  {
   "cell_type": "code",
   "execution_count": 107,
   "metadata": {},
   "outputs": [],
   "source": [
    "#Creating Dataset\n",
    "dataset=tf.data.Dataset.from_tensor_slices(my_data).shuffle(buffer_size=1000)"
   ]
  },
  {
   "cell_type": "code",
   "execution_count": 108,
   "metadata": {},
   "outputs": [],
   "source": [
    "dataset=dataset.batch(batch_size,drop_remainder=True)\n"
   ]
  },
  {
   "cell_type": "code",
   "execution_count": 109,
   "metadata": {},
   "outputs": [
    {
     "data": {
      "text/plain": [
       "[<tensorflow.python.keras.engine.sequential.Sequential at 0x7f2b29ad93d0>,\n",
       " <tensorflow.python.keras.engine.sequential.Sequential at 0x7f2b29a99a10>]"
      ]
     },
     "execution_count": 109,
     "metadata": {},
     "output_type": "execute_result"
    }
   ],
   "source": [
    "epochs=20\n",
    "GAN.layers"
   ]
  },
  {
   "cell_type": "code",
   "execution_count": 110,
   "metadata": {},
   "outputs": [],
   "source": [
    "generator,discrimnator=GAN.layers"
   ]
  },
  {
   "cell_type": "code",
   "execution_count": 111,
   "metadata": {},
   "outputs": [
    {
     "name": "stdout",
     "output_type": "stream",
     "text": [
      "Currently on epochs 1\n",
      "Currently on batch number 10 of 92\n",
      "Currently on batch number 20 of 92\n",
      "Currently on batch number 30 of 92\n",
      "Currently on batch number 40 of 92\n",
      "Currently on batch number 50 of 92\n",
      "Currently on batch number 60 of 92\n",
      "Currently on batch number 70 of 92\n",
      "Currently on batch number 80 of 92\n",
      "Currently on batch number 90 of 92\n",
      "Currently on epochs 2\n",
      "Currently on batch number 10 of 92\n",
      "Currently on batch number 20 of 92\n",
      "Currently on batch number 30 of 92\n",
      "Currently on batch number 40 of 92\n",
      "Currently on batch number 50 of 92\n",
      "Currently on batch number 60 of 92\n",
      "Currently on batch number 70 of 92\n",
      "Currently on batch number 80 of 92\n",
      "Currently on batch number 90 of 92\n",
      "Currently on epochs 3\n",
      "Currently on batch number 10 of 92\n",
      "Currently on batch number 20 of 92\n",
      "Currently on batch number 30 of 92\n",
      "Currently on batch number 40 of 92\n",
      "Currently on batch number 50 of 92\n",
      "Currently on batch number 60 of 92\n",
      "Currently on batch number 70 of 92\n",
      "Currently on batch number 80 of 92\n",
      "Currently on batch number 90 of 92\n",
      "Currently on epochs 4\n",
      "Currently on batch number 10 of 92\n",
      "Currently on batch number 20 of 92\n",
      "Currently on batch number 30 of 92\n",
      "Currently on batch number 40 of 92\n",
      "Currently on batch number 50 of 92\n",
      "Currently on batch number 60 of 92\n",
      "Currently on batch number 70 of 92\n",
      "Currently on batch number 80 of 92\n",
      "Currently on batch number 90 of 92\n",
      "Currently on epochs 5\n",
      "Currently on batch number 10 of 92\n",
      "Currently on batch number 20 of 92\n",
      "Currently on batch number 30 of 92\n",
      "Currently on batch number 40 of 92\n",
      "Currently on batch number 50 of 92\n",
      "Currently on batch number 60 of 92\n",
      "Currently on batch number 70 of 92\n",
      "Currently on batch number 80 of 92\n",
      "Currently on batch number 90 of 92\n",
      "Currently on epochs 6\n",
      "Currently on batch number 10 of 92\n",
      "Currently on batch number 20 of 92\n",
      "Currently on batch number 30 of 92\n",
      "Currently on batch number 40 of 92\n",
      "Currently on batch number 50 of 92\n",
      "Currently on batch number 60 of 92\n",
      "Currently on batch number 70 of 92\n",
      "Currently on batch number 80 of 92\n",
      "Currently on batch number 90 of 92\n",
      "Currently on epochs 7\n",
      "Currently on batch number 10 of 92\n",
      "Currently on batch number 20 of 92\n",
      "Currently on batch number 30 of 92\n",
      "Currently on batch number 40 of 92\n",
      "Currently on batch number 50 of 92\n",
      "Currently on batch number 60 of 92\n",
      "Currently on batch number 70 of 92\n",
      "Currently on batch number 80 of 92\n",
      "Currently on batch number 90 of 92\n",
      "Currently on epochs 8\n",
      "Currently on batch number 10 of 92\n",
      "Currently on batch number 20 of 92\n",
      "Currently on batch number 30 of 92\n",
      "Currently on batch number 40 of 92\n",
      "Currently on batch number 50 of 92\n",
      "Currently on batch number 60 of 92\n",
      "Currently on batch number 70 of 92\n",
      "Currently on batch number 80 of 92\n",
      "Currently on batch number 90 of 92\n",
      "Currently on epochs 9\n",
      "Currently on batch number 10 of 92\n",
      "Currently on batch number 20 of 92\n",
      "Currently on batch number 30 of 92\n",
      "Currently on batch number 40 of 92\n",
      "Currently on batch number 50 of 92\n",
      "Currently on batch number 60 of 92\n",
      "Currently on batch number 70 of 92\n",
      "Currently on batch number 80 of 92\n",
      "Currently on batch number 90 of 92\n",
      "Currently on epochs 10\n",
      "Currently on batch number 10 of 92\n",
      "Currently on batch number 20 of 92\n",
      "Currently on batch number 30 of 92\n",
      "Currently on batch number 40 of 92\n",
      "Currently on batch number 50 of 92\n",
      "Currently on batch number 60 of 92\n",
      "Currently on batch number 70 of 92\n",
      "Currently on batch number 80 of 92\n",
      "Currently on batch number 90 of 92\n",
      "Currently on epochs 11\n",
      "Currently on batch number 10 of 92\n",
      "Currently on batch number 20 of 92\n",
      "Currently on batch number 30 of 92\n",
      "Currently on batch number 40 of 92\n",
      "Currently on batch number 50 of 92\n",
      "Currently on batch number 60 of 92\n",
      "Currently on batch number 70 of 92\n",
      "Currently on batch number 80 of 92\n",
      "Currently on batch number 90 of 92\n",
      "Currently on epochs 12\n",
      "Currently on batch number 10 of 92\n",
      "Currently on batch number 20 of 92\n",
      "Currently on batch number 30 of 92\n",
      "Currently on batch number 40 of 92\n",
      "Currently on batch number 50 of 92\n",
      "Currently on batch number 60 of 92\n",
      "Currently on batch number 70 of 92\n",
      "Currently on batch number 80 of 92\n",
      "Currently on batch number 90 of 92\n",
      "Currently on epochs 13\n",
      "Currently on batch number 10 of 92\n",
      "Currently on batch number 20 of 92\n",
      "Currently on batch number 30 of 92\n",
      "Currently on batch number 40 of 92\n",
      "Currently on batch number 50 of 92\n",
      "Currently on batch number 60 of 92\n",
      "Currently on batch number 70 of 92\n",
      "Currently on batch number 80 of 92\n",
      "Currently on batch number 90 of 92\n",
      "Currently on epochs 14\n",
      "Currently on batch number 10 of 92\n",
      "Currently on batch number 20 of 92\n",
      "Currently on batch number 30 of 92\n",
      "Currently on batch number 40 of 92\n",
      "Currently on batch number 50 of 92\n",
      "Currently on batch number 60 of 92\n",
      "Currently on batch number 70 of 92\n",
      "Currently on batch number 80 of 92\n",
      "Currently on batch number 90 of 92\n",
      "Currently on epochs 15\n",
      "Currently on batch number 10 of 92\n",
      "Currently on batch number 20 of 92\n",
      "Currently on batch number 30 of 92\n",
      "Currently on batch number 40 of 92\n",
      "Currently on batch number 50 of 92\n",
      "Currently on batch number 60 of 92\n",
      "Currently on batch number 70 of 92\n",
      "Currently on batch number 80 of 92\n",
      "Currently on batch number 90 of 92\n",
      "Currently on epochs 16\n",
      "Currently on batch number 10 of 92\n",
      "Currently on batch number 20 of 92\n",
      "Currently on batch number 30 of 92\n",
      "Currently on batch number 40 of 92\n",
      "Currently on batch number 50 of 92\n",
      "Currently on batch number 60 of 92\n",
      "Currently on batch number 70 of 92\n",
      "Currently on batch number 80 of 92\n",
      "Currently on batch number 90 of 92\n",
      "Currently on epochs 17\n",
      "Currently on batch number 10 of 92\n",
      "Currently on batch number 20 of 92\n",
      "Currently on batch number 30 of 92\n",
      "Currently on batch number 40 of 92\n",
      "Currently on batch number 50 of 92\n",
      "Currently on batch number 60 of 92\n",
      "Currently on batch number 70 of 92\n",
      "Currently on batch number 80 of 92\n",
      "Currently on batch number 90 of 92\n",
      "Currently on epochs 18\n",
      "Currently on batch number 10 of 92\n",
      "Currently on batch number 20 of 92\n",
      "Currently on batch number 30 of 92\n",
      "Currently on batch number 40 of 92\n",
      "Currently on batch number 50 of 92\n",
      "Currently on batch number 60 of 92\n",
      "Currently on batch number 70 of 92\n",
      "Currently on batch number 80 of 92\n",
      "Currently on batch number 90 of 92\n",
      "Currently on epochs 19\n",
      "Currently on batch number 10 of 92\n",
      "Currently on batch number 20 of 92\n",
      "Currently on batch number 30 of 92\n",
      "Currently on batch number 40 of 92\n",
      "Currently on batch number 50 of 92\n",
      "Currently on batch number 60 of 92\n",
      "Currently on batch number 70 of 92\n",
      "Currently on batch number 80 of 92\n",
      "Currently on batch number 90 of 92\n",
      "Currently on epochs 20\n",
      "Currently on batch number 10 of 92\n",
      "Currently on batch number 20 of 92\n",
      "Currently on batch number 30 of 92\n",
      "Currently on batch number 40 of 92\n",
      "Currently on batch number 50 of 92\n",
      "Currently on batch number 60 of 92\n",
      "Currently on batch number 70 of 92\n",
      "Currently on batch number 80 of 92\n",
      "Currently on batch number 90 of 92\n"
     ]
    }
   ],
   "source": [
    "for epochs in range(epochs):\n",
    "    print(f\"Currently on epochs {epochs+1}\")\n",
    "     \n",
    "    i=0\n",
    "    \n",
    "    for X_batch in dataset:\n",
    "        \n",
    "        i=i+1\n",
    "        \n",
    "        if i%10== 0:\n",
    "            \n",
    "            print(f\"Currently on batch number {i} of {len(my_data)//batch_size}\")\n",
    "                  \n",
    "        \n",
    "        # Discriminator Training Phase\n",
    "        \n",
    "        noise=tf.random.normal(shape=[batch_size,reduced_dim])\n",
    "        gen_images=generator(noise)\n",
    "         \n",
    "        x_fake_vs_real=tf.concat([gen_images,tf.dtypes.cast(X_batch,tf.float32)],axis=0)\n",
    "                  \n",
    "        y1=tf.constant([[0.0]]*batch_size + [[1.0]]*batch_size)\n",
    "                  \n",
    "        discrimnator.trainable=True\n",
    "                  \n",
    "        discrimnator.train_on_batch(x_fake_vs_real,y1)\n",
    "        \n",
    "        # Generator Training Phase\n",
    "                  \n",
    "        noise=tf.random.normal(shape=[batch_size,reduced_dim])\n",
    "        y2=tf.constant([[1.0]]*batch_size)\n",
    "        discrimnator.trainable=False\n",
    "        GAN.train_on_batch(noise,y2)\n",
    "            \n",
    "        \n",
    "                  \n",
    "        "
   ]
  },
  {
   "cell_type": "code",
   "execution_count": 112,
   "metadata": {},
   "outputs": [
    {
     "data": {
      "text/plain": [
       "<matplotlib.image.AxesImage at 0x7f2b28db4290>"
      ]
     },
     "execution_count": 112,
     "metadata": {},
     "output_type": "execute_result"
    },
    {
     "data": {
      "image/png": "[encoded data removed]",
      "text/plain": [
       "<Figure size 432x288 with 1 Axes>"
      ]
     },
     "metadata": {
      "needs_background": "light"
     },
     "output_type": "display_data"
    }
   ],
   "source": [
    "noise=tf.random.normal(shape=[20,reduced_dim])\n",
    "plt.imshow(noise)"
   ]
  },
  {
   "cell_type": "code",
   "execution_count": 113,
   "metadata": {},
   "outputs": [],
   "source": [
    "images_generated=generator(noise)"
   ]
  },
  {
   "cell_type": "code",
   "execution_count": 114,
   "metadata": {},
   "outputs": [
    {
     "data": {
      "image/png": "[encoded data removed]",
      "text/plain": [
       "<Figure size 432x288 with 1 Axes>"
      ]
     },
     "metadata": {
      "needs_background": "light"
     },
     "output_type": "display_data"
    },
    {
     "data": {
      "image/png": "[encoded data removed]",
      "text/plain": [
       "<Figure size 432x288 with 1 Axes>"
      ]
     },
     "metadata": {
      "needs_background": "light"
     },
     "output_type": "display_data"
    },
    {
     "data": {
      "image/png": "[encoded data removed]",
      "text/plain": [
       "<Figure size 432x288 with 1 Axes>"
      ]
     },
     "metadata": {
      "needs_background": "light"
     },
     "output_type": "display_data"
    },
    {
     "data": {
      "image/png": "[encoded data removed]",
      "text/plain": [
       "<Figure size 432x288 with 1 Axes>"
      ]
     },
     "metadata": {
      "needs_background": "light"
     },
     "output_type": "display_data"
    },
    {
     "data": {
      "image/png": "[encoded data removed]",
      "text/plain": [
       "<Figure size 432x288 with 1 Axes>"
      ]
     },
     "metadata": {
      "needs_background": "light"
     },
     "output_type": "display_data"
    },
    {
     "data": {
      "image/png": "[encoded data removed]",
      "text/plain": [
       "<Figure size 432x288 with 1 Axes>"
      ]
     },
     "metadata": {
      "needs_background": "light"
     },
     "output_type": "display_data"
    },
    {
     "data": {
      "image/png": "[encoded data removed]",
      "text/plain": [
       "<Figure size 432x288 with 1 Axes>"
      ]
     },
     "metadata": {
      "needs_background": "light"
     },
     "output_type": "display_data"
    },
    {
     "data": {
      "image/png": "[encoded data removed]",
      "text/plain": [
       "<Figure size 432x288 with 1 Axes>"
      ]
     },
     "metadata": {
      "needs_background": "light"
     },
     "output_type": "display_data"
    },
    {
     "data": {
      "image/png": "[encoded data removed]",
      "text/plain": [
       "<Figure size 432x288 with 1 Axes>"
      ]
     },
     "metadata": {
      "needs_background": "light"
     },
     "output_type": "display_data"
    },
    {
     "data": {
      "image/png": "[encoded data removed]",
      "text/plain": [
       "<Figure size 432x288 with 1 Axes>"
      ]
     },
     "metadata": {
      "needs_background": "light"
     },
     "output_type": "display_data"
    },
    {
     "data": {
      "image/png": "[encoded data removed]",
      "text/plain": [
       "<Figure size 432x288 with 1 Axes>"
      ]
     },
     "metadata": {
      "needs_background": "light"
     },
     "output_type": "display_data"
    },
    {
     "data": {
      "image/png": "[encoded data removed]",
      "text/plain": [
       "<Figure size 432x288 with 1 Axes>"
      ]
     },
     "metadata": {
      "needs_background": "light"
     },
     "output_type": "display_data"
    },
    {
     "data": {
      "image/png": "[encoded data removed]",
      "text/plain": [
       "<Figure size 432x288 with 1 Axes>"
      ]
     },
     "metadata": {
      "needs_background": "light"
     },
     "output_type": "display_data"
    },
    {
     "data": {
      "image/png": "[encoded data removed]",
      "text/plain": [
       "<Figure size 432x288 with 1 Axes>"
      ]
     },
     "metadata": {
      "needs_background": "light"
     },
     "output_type": "display_data"
    },
    {
     "data": {
      "image/png": "[encoded data removed]",
      "text/plain": [
       "<Figure size 432x288 with 1 Axes>"
      ]
     },
     "metadata": {
      "needs_background": "light"
     },
     "output_type": "display_data"
    },
    {
     "data": {
      "image/png": "[encoded data removed]",
      "text/plain": [
       "<Figure size 432x288 with 1 Axes>"
      ]
     },
     "metadata": {
      "needs_background": "light"
     },
     "output_type": "display_data"
    },
    {
     "data": {
      "image/png": "[encoded data removed]",
      "text/plain": [
       "<Figure size 432x288 with 1 Axes>"
      ]
     },
     "metadata": {
      "needs_background": "light"
     },
     "output_type": "display_data"
    },
    {
     "data": {
      "image/png": "[encoded data removed]",
      "text/plain": [
       "<Figure size 432x288 with 1 Axes>"
      ]
     },
     "metadata": {
      "needs_background": "light"
     },
     "output_type": "display_data"
    },
    {
     "data": {
      "image/png": "[encoded data removed]",
      "text/plain": [
       "<Figure size 432x288 with 1 Axes>"
      ]
     },
     "metadata": {
      "needs_background": "light"
     },
     "output_type": "display_data"
    },
    {
     "data": {
      "image/png": "[encoded data removed]",
      "text/plain": [
       "<Figure size 432x288 with 1 Axes>"
      ]
     },
     "metadata": {
      "needs_background": "light"
     },
     "output_type": "display_data"
    }
   ],
   "source": [
    "for image in images_generated:\n",
    "    plt.imshow(image.numpy().reshape(28,28))\n",
    "    plt.show()\n",
    "    "
   ]
  },
  {
   "cell_type": "code",
   "execution_count": null,
   "metadata": {},
   "outputs": [],
   "source": []
  }
 ],
 "metadata": {
  "kernelspec": {
   "display_name": "Python 3",
   "language": "python",
   "name": "python3"
  },
  "language_info": {
   "codemirror_mode": {
    "name": "ipython",
    "version": 3
   },
   "file_extension": ".py",
   "mimetype": "text/x-python",
   "name": "python",
   "nbconvert_exporter": "python",
   "pygments_lexer": "ipython3",
   "version": "3.7.7"
  }
 },
 "nbformat": 4,
 "nbformat_minor": 4
}
